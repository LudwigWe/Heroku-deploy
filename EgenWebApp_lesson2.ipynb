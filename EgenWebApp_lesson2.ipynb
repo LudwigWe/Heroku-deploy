{
  "nbformat": 4,
  "nbformat_minor": 0,
  "metadata": {
    "colab": {
      "name": "EgenWebApp_lesson2.ipynb",
      "provenance": [],
      "collapsed_sections": []
    },
    "kernelspec": {
      "name": "python3",
      "display_name": "Python 3"
    },
    "language_info": {
      "name": "python"
    }
  },
  "cells": [
    {
      "cell_type": "code",
      "metadata": {
        "id": "Mnj4uvZMHrB0"
      },
      "source": [
        "#hide\n",
        "from fastai.vision.all import *\n",
        "from fastai.vision.widgets import *\n",
        "from ipywidgets import *"
      ],
      "execution_count": null,
      "outputs": []
    },
    {
      "cell_type": "code",
      "execution_count": null,
      "metadata": {},
      "outputs": [],
      "source": [
        "########### just use this part for deplyoying on local windows\n",
        "#import pathlib\n",
        "#temp = pathlib.PosixPath\n",
        "#pathlib.PosixPath = pathlib.WindowsPath\n",
        "###########\n",
        "import IPython\n",
        "from IPython.display import display\n"
      ]
    },
    {
      "cell_type": "code",
      "metadata": {
        "id": "ARIwZu1wPxEj"
      },
      "source": [
        "#hide_output\n",
        "path = Path()\n",
        "learn_inf = load_learner(path/'Bear-model.pkl', cpu=True)\n",
        "btn_upload = widgets.FileUpload()\n",
        "out_pl = widgets.Output()\n",
        "lbl_pred = widgets.Label()"
      ],
      "execution_count": null,
      "outputs": []
    },
    {
      "cell_type": "code",
      "metadata": {
        "id": "gTEvTciAN3TG"
      },
      "source": [
        "def on_click_classify(change):\n",
        "    lbl_pred.value = ''\n",
        "    img = PILImage.create(btn_upload.data[-1])\n",
        "    out_pl.clear_output()\n",
        "    with out_pl: display(img.to_thumb(128,128))\n",
        "    pred,pred_idx,probs = learn_inf.predict(img)\n",
        "    lbl_pred.value = f'Prediction: {pred}; Probability: {probs[pred_idx]:.04f}'"
      ],
      "execution_count": null,
      "outputs": []
    },
    {
      "cell_type": "code",
      "metadata": {
        "id": "KD-cM76fCLN6"
      },
      "source": [
        "btn_upload.observe(on_click_classify, names=['data'])"
      ],
      "execution_count": null,
      "outputs": []
    },
    {
      "cell_type": "code",
      "metadata": {
        "id": "nZqfyX5GN56X"
      },
      "source": [
        "#hide_output\n",
        "display(VBox([widgets.Label('Select your bear!'), btn_upload, out_pl, lbl_pred]))\n",
        "#VBox([widgets.Label('Select your bear!'), btn_upload, out_pl, lbl_pred])"
      ],
      "execution_count": null,
      "outputs": []
    }
  ]
}